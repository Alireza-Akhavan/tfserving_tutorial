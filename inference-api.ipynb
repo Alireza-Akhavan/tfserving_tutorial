{
 "cells": [
  {
   "cell_type": "code",
   "execution_count": 53,
   "metadata": {},
   "outputs": [
    {
     "data": {
      "text/plain": [
       "array([[4.17351000e-09, 1.33791259e-11, 4.10552303e-09, ...,\n",
       "        3.41871474e-03, 1.12309543e-07, 9.96448636e-01],\n",
       "       [1.61603111e-05, 1.09572108e-15, 9.99436677e-01, ...,\n",
       "        2.04771697e-15, 1.40874109e-11, 3.56105201e-13],\n",
       "       [8.49210459e-12, 1.00000000e+00, 3.10776410e-15, ...,\n",
       "        8.35579527e-30, 8.76813867e-13, 8.77680312e-21],\n",
       "       ...,\n",
       "       [8.20963280e-08, 1.11888458e-13, 2.21535590e-09, ...,\n",
       "        2.86039331e-10, 9.99999881e-01, 1.54253286e-15],\n",
       "       [2.37580203e-12, 1.00000000e+00, 3.56636175e-14, ...,\n",
       "        1.09227835e-20, 1.34376274e-10, 1.91986709e-15],\n",
       "       [6.79912728e-06, 1.45929562e-08, 4.62168919e-06, ...,\n",
       "        4.50556353e-03, 7.09572283e-04, 1.47746023e-05]])"
      ]
     },
     "execution_count": 53,
     "metadata": {},
     "output_type": "execute_result"
    }
   ],
   "source": [
    "import json\n",
    "import numpy\n",
    "import requests\n",
    "data = json.dumps({\"signature_name\": \"serving_default\",\n",
    "                   \"instances\": x_test.tolist()})\n",
    "headers = {\"content-type\": \"application/json\"}\n",
    "json_response = requests.post('http://localhost:8501/v1/models/mymodel:predict',\n",
    "                              data=data, headers=headers)\n",
    "new_predictions = numpy.array(json.loads(json_response.text)[\"predictions\"])\n",
    "new_predictions"
   ]
  },
  {
   "cell_type": "code",
   "execution_count": 55,
   "metadata": {},
   "outputs": [],
   "source": [
    "import json\n",
    "import numpy\n",
    "import requests\n",
    "data = json.dumps({\"signature_name\": \"serving_default\",\n",
    "                   \"instances\": x_test.tolist()})\n",
    "headers = {\"content-type\": \"application/json\"}\n",
    "json_response = requests.post('http://localhost:8501/v1/models/mymodel/versions/1:predict',\n",
    "                              data=data, headers=headers)\n",
    "new_predictions = numpy.array(json.loads(json_response.text)[\"predictions\"])"
   ]
  },
  {
   "cell_type": "code",
   "execution_count": 56,
   "metadata": {},
   "outputs": [
    {
     "data": {
      "text/plain": [
       "array([[1.25386805e-07, 3.24339226e-06, 1.81965394e-08, ...,\n",
       "        9.81778279e-03, 3.62246226e-07, 9.82381046e-01],\n",
       "       [2.33027052e-07, 2.25892305e-16, 9.99840379e-01, ...,\n",
       "        2.18044292e-19, 4.01041908e-11, 1.91535952e-14],\n",
       "       [5.81001117e-15, 1.00000000e+00, 1.29643624e-18, ...,\n",
       "        4.55686733e-31, 2.90648106e-17, 1.34612803e-25],\n",
       "       ...,\n",
       "       [1.05529750e-06, 4.79046768e-11, 5.81929491e-08, ...,\n",
       "        6.12777884e-11, 9.99998450e-01, 8.33939092e-13],\n",
       "       [1.10639227e-10, 9.99997258e-01, 1.56220306e-12, ...,\n",
       "        4.03586715e-18, 9.07253739e-09, 6.84500493e-17],\n",
       "       [1.86091469e-07, 7.76125719e-10, 2.03004220e-07, ...,\n",
       "        1.15368339e-05, 1.02544309e-05, 3.43599140e-07]])"
      ]
     },
     "execution_count": 56,
     "metadata": {},
     "output_type": "execute_result"
    }
   ],
   "source": [
    "new_predictions"
   ]
  },
  {
   "cell_type": "code",
   "execution_count": 57,
   "metadata": {},
   "outputs": [],
   "source": [
    "np.testing.assert_allclose(predictions, new_predictions, rtol=1e-6, atol=1e-6)"
   ]
  },
  {
   "cell_type": "code",
   "execution_count": null,
   "metadata": {},
   "outputs": [],
   "source": []
  },
  {
   "cell_type": "code",
   "execution_count": null,
   "metadata": {},
   "outputs": [],
   "source": []
  }
 ],
 "metadata": {
  "kernelspec": {
   "display_name": "Python 3",
   "language": "python",
   "name": "python3"
  },
  "language_info": {
   "codemirror_mode": {
    "name": "ipython",
    "version": 3
   },
   "file_extension": ".py",
   "mimetype": "text/x-python",
   "name": "python",
   "nbconvert_exporter": "python",
   "pygments_lexer": "ipython3",
   "version": "3.6.8"
  }
 },
 "nbformat": 4,
 "nbformat_minor": 2
}
