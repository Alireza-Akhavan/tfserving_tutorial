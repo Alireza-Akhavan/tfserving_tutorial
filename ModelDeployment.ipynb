{
 "cells": [
  {
   "cell_type": "code",
   "execution_count": 4,
   "metadata": {},
   "outputs": [],
   "source": [
    "import tensorflow as tf\n",
    "from tensorflow.keras.callbacks import EarlyStopping\n",
    "import matplotlib.pyplot as plt\n",
    "%matplotlib inline"
   ]
  },
  {
   "cell_type": "code",
   "execution_count": 9,
   "metadata": {},
   "outputs": [],
   "source": [
    "mnist = tf.keras.datasets.fashion_mnist\n",
    "\n",
    "(x_train, y_train),(x_test, y_test) = mnist.load_data()\n",
    "x_train, x_test = x_train / 255.0, x_test / 255.0\n",
    "\n"
   ]
  },
  {
   "cell_type": "code",
   "execution_count": 11,
   "metadata": {},
   "outputs": [
    {
     "name": "stdout",
     "output_type": "stream",
     "text": [
      "Train on 48000 samples, validate on 12000 samples\n",
      "Epoch 1/10\n",
      "48000/48000 [==============================] - 8s 172us/sample - loss: 0.4833 - accuracy: 0.8247 - val_loss: 0.3885 - val_accuracy: 0.8604\n",
      "Epoch 2/10\n",
      "48000/48000 [==============================] - 8s 169us/sample - loss: 0.3643 - accuracy: 0.8644 - val_loss: 0.3538 - val_accuracy: 0.8727\n",
      "Epoch 3/10\n",
      "48000/48000 [==============================] - 8s 167us/sample - loss: 0.3272 - accuracy: 0.8789 - val_loss: 0.3555 - val_accuracy: 0.8746\n",
      "Epoch 4/10\n",
      "48000/48000 [==============================] - 8s 168us/sample - loss: 0.3046 - accuracy: 0.8861 - val_loss: 0.3453 - val_accuracy: 0.8749\n",
      "Epoch 5/10\n",
      "48000/48000 [==============================] - 8s 168us/sample - loss: 0.2811 - accuracy: 0.8953 - val_loss: 0.3447 - val_accuracy: 0.8784\n",
      "Epoch 6/10\n",
      "48000/48000 [==============================] - 8s 168us/sample - loss: 0.2671 - accuracy: 0.8999 - val_loss: 0.3231 - val_accuracy: 0.8882\n",
      "Epoch 7/10\n",
      "48000/48000 [==============================] - 8s 168us/sample - loss: 0.2554 - accuracy: 0.9025 - val_loss: 0.3402 - val_accuracy: 0.8872\n",
      "Epoch 8/10\n",
      "48000/48000 [==============================] - 8s 167us/sample - loss: 0.2431 - accuracy: 0.9082 - val_loss: 0.3300 - val_accuracy: 0.8817\n"
     ]
    }
   ],
   "source": [
    "early_stopping = EarlyStopping(patience=2, monitor='val_loss')\n",
    "model = tf.keras.models.Sequential([\n",
    "  tf.keras.layers.Flatten(input_shape=(28, 28)),\n",
    "  tf.keras.layers.Dense(512, activation=tf.nn.relu),\n",
    "  tf.keras.layers.Dense(512, activation=tf.nn.relu),\n",
    "  tf.keras.layers.Dense(10, activation=tf.nn.softmax)\n",
    "])\n",
    "model.compile(optimizer='adam',\n",
    "              loss='sparse_categorical_crossentropy',\n",
    "              metrics=['accuracy'])\n",
    "\n",
    "history = model.fit(x_train, y_train, validation_split=0.2, epochs=10, \n",
    "                    callbacks=[early_stopping])"
   ]
  },
  {
   "cell_type": "code",
   "execution_count": 13,
   "metadata": {},
   "outputs": [
    {
     "name": "stdout",
     "output_type": "stream",
     "text": [
      "10000/10000 [==============================] - 1s 76us/sample - loss: 0.3531 - accuracy: 0.8764\n"
     ]
    },
    {
     "data": {
      "text/plain": [
       "[0.35312857472896575, 0.8764]"
      ]
     },
     "execution_count": 13,
     "metadata": {},
     "output_type": "execute_result"
    }
   ],
   "source": [
    "model.evaluate(x_test, y_test)"
   ]
  },
  {
   "cell_type": "code",
   "execution_count": 14,
   "metadata": {},
   "outputs": [],
   "source": [
    "predictions = model.predict(x_test)"
   ]
  },
  {
   "cell_type": "code",
   "execution_count": 16,
   "metadata": {},
   "outputs": [],
   "source": [
    "# Save the model\n",
    "model.save('path_to_my_model.h5')\n",
    "\n",
    "# Recreate the exact same model purely from the file\n",
    "new_model = tf.keras.models.load_model('path_to_my_model.h5')"
   ]
  },
  {
   "cell_type": "code",
   "execution_count": 18,
   "metadata": {},
   "outputs": [],
   "source": [
    "# Check that the state is preserved\n",
    "new_predictions = new_model.predict(x_test)\n",
    "np.testing.assert_allclose(predictions, new_predictions, rtol=1e-6, atol=1e-6)"
   ]
  },
  {
   "cell_type": "code",
   "execution_count": 22,
   "metadata": {},
   "outputs": [
    {
     "name": "stderr",
     "output_type": "stream",
     "text": [
      "Using TensorFlow backend.\n"
     ]
    }
   ],
   "source": [
    "import keras"
   ]
  },
  {
   "cell_type": "markdown",
   "metadata": {},
   "source": [
    "## old syntax"
   ]
  },
  {
   "cell_type": "code",
   "execution_count": 25,
   "metadata": {},
   "outputs": [],
   "source": [
    "# # Export the model to a SavedModel\n",
    "# keras.experimental.export_saved_model(model, )\n",
    "\n",
    "# # Recreate the exact same model\n",
    "# new_model = keras.experimental.load_from_saved_model('saved_model/1/')\n",
    "\n",
    "# # Check that the state is preserved\n",
    "# new_predictions = new_model.predict(X_test)\n"
   ]
  },
  {
   "cell_type": "markdown",
   "metadata": {},
   "source": [
    "Warning: THIS FUNCTION IS DEPRECATED. \n",
    "\n",
    "It will be removed in a future version. Instructions for updating: Please use model.save(..., save_format=\"tf\") or tf.keras.models.save_model(..., save_format=\"tf\").\n",
    "\n",
    "https://www.tensorflow.org/api_docs/python/tf/compat/v1/keras/experimental/export_saved_model"
   ]
  },
  {
   "cell_type": "markdown",
   "metadata": {},
   "source": [
    "## new syntax"
   ]
  },
  {
   "cell_type": "code",
   "execution_count": 27,
   "metadata": {},
   "outputs": [
    {
     "name": "stdout",
     "output_type": "stream",
     "text": [
      "INFO:tensorflow:Assets written to: saved_model/1/assets\n"
     ]
    }
   ],
   "source": [
    "# Export the model to a SavedModel\n",
    "model.save('saved_model/1/', save_format=\"tf\")\n",
    "\n",
    "# Recreate the exact same model\n",
    "new_model = tf.keras.models.load_model('saved_model/1/')\n",
    "\n",
    "# Check that the state is preserved\n",
    "new_predictions = new_model.predict(x_test)"
   ]
  },
  {
   "cell_type": "code",
   "execution_count": 28,
   "metadata": {},
   "outputs": [],
   "source": [
    "np.testing.assert_allclose(predictions, new_predictions, rtol=1e-6, atol=1e-6)"
   ]
  },
  {
   "cell_type": "code",
   "execution_count": 29,
   "metadata": {},
   "outputs": [
    {
     "name": "stdout",
     "output_type": "stream",
     "text": [
      "Train on 48000 samples, validate on 12000 samples\n",
      "Epoch 1/10\n",
      "48000/48000 [==============================] - 6s 122us/sample - loss: 0.4885 - accuracy: 0.8249 - val_loss: 0.4129 - val_accuracy: 0.8478\n",
      "Epoch 2/10\n",
      "48000/48000 [==============================] - 6s 117us/sample - loss: 0.3672 - accuracy: 0.8658 - val_loss: 0.3452 - val_accuracy: 0.8753\n",
      "Epoch 3/10\n",
      "48000/48000 [==============================] - 6s 116us/sample - loss: 0.3277 - accuracy: 0.8791 - val_loss: 0.3434 - val_accuracy: 0.8748\n",
      "Epoch 4/10\n",
      "48000/48000 [==============================] - 6s 119us/sample - loss: 0.3005 - accuracy: 0.8885 - val_loss: 0.3369 - val_accuracy: 0.8791\n",
      "Epoch 5/10\n",
      "48000/48000 [==============================] - 6s 116us/sample - loss: 0.2819 - accuracy: 0.8949 - val_loss: 0.3379 - val_accuracy: 0.8774\n",
      "Epoch 6/10\n",
      "48000/48000 [==============================] - 6s 117us/sample - loss: 0.2688 - accuracy: 0.9008 - val_loss: 0.3232 - val_accuracy: 0.8848\n",
      "Epoch 7/10\n",
      "48000/48000 [==============================] - 6s 119us/sample - loss: 0.2538 - accuracy: 0.9049 - val_loss: 0.3633 - val_accuracy: 0.8738\n",
      "Epoch 8/10\n",
      "48000/48000 [==============================] - 6s 116us/sample - loss: 0.2422 - accuracy: 0.9083 - val_loss: 0.3088 - val_accuracy: 0.8919\n",
      "Epoch 9/10\n",
      "48000/48000 [==============================] - 6s 118us/sample - loss: 0.2319 - accuracy: 0.9130 - val_loss: 0.3384 - val_accuracy: 0.8750\n",
      "Epoch 10/10\n",
      "48000/48000 [==============================] - 6s 118us/sample - loss: 0.2224 - accuracy: 0.9176 - val_loss: 0.3165 - val_accuracy: 0.8913\n"
     ]
    },
    {
     "data": {
      "text/plain": [
       "<tensorflow.python.keras.callbacks.History at 0x7f61dfed64a8>"
      ]
     },
     "execution_count": 29,
     "metadata": {},
     "output_type": "execute_result"
    }
   ],
   "source": [
    "model2 = tf.keras.models.Sequential([\n",
    "  tf.keras.layers.Flatten(input_shape=(28, 28)),\n",
    "  tf.keras.layers.Dense(512, activation=tf.nn.relu),\n",
    "  tf.keras.layers.Dense(10, activation=tf.nn.softmax)\n",
    "])\n",
    "model2.compile(optimizer='adam',\n",
    "              loss='sparse_categorical_crossentropy',\n",
    "              metrics=['accuracy'])\n",
    "\n",
    "model2.fit(x_train, y_train, validation_split=0.2, epochs=10, \n",
    "                    callbacks=[early_stopping])"
   ]
  },
  {
   "cell_type": "code",
   "execution_count": 30,
   "metadata": {},
   "outputs": [
    {
     "name": "stdout",
     "output_type": "stream",
     "text": [
      "10000/10000 [==============================] - 1s 71us/sample - loss: 0.3423 - accuracy: 0.8839\n"
     ]
    },
    {
     "data": {
      "text/plain": [
       "[0.3423310753107071, 0.8839]"
      ]
     },
     "execution_count": 30,
     "metadata": {},
     "output_type": "execute_result"
    }
   ],
   "source": [
    "model2.evaluate(x_test, y_test)"
   ]
  },
  {
   "cell_type": "code",
   "execution_count": 31,
   "metadata": {},
   "outputs": [],
   "source": [
    "predictions2 = model2.predict(x_test)"
   ]
  },
  {
   "cell_type": "code",
   "execution_count": 33,
   "metadata": {},
   "outputs": [
    {
     "name": "stdout",
     "output_type": "stream",
     "text": [
      "INFO:tensorflow:Assets written to: saved_model/2/assets\n"
     ]
    }
   ],
   "source": [
    "# Export the model to a SavedModel\n",
    "model2.save('saved_model/2/', save_format=\"tf\")\n",
    "\n",
    "# Recreate the exact same model\n",
    "new_model2 = tf.keras.models.load_model('saved_model/2/')\n",
    "\n",
    "# Check that the state is preserved\n",
    "new_predictions2 = new_model2.predict(x_test)\n",
    "\n",
    "\n",
    "np.testing.assert_allclose(predictions2, new_predictions2, rtol=1e-6, atol=1e-6)"
   ]
  },
  {
   "cell_type": "code",
   "execution_count": 35,
   "metadata": {},
   "outputs": [],
   "source": [
    "#np.testing.assert_allclose(predictions, new_predictions2, rtol=1e-6, atol=1e-6)"
   ]
  },
  {
   "cell_type": "code",
   "execution_count": 37,
   "metadata": {},
   "outputs": [
    {
     "data": {
      "text/plain": [
       "array([[2.3302682e-07, 2.2589143e-16, 9.9984038e-01, 7.8825405e-11,\n",
       "        1.3476152e-04, 2.8682020e-14, 2.4534313e-05, 2.1804515e-19,\n",
       "        4.0104191e-11, 1.9153632e-14]], dtype=float32)"
      ]
     },
     "execution_count": 37,
     "metadata": {},
     "output_type": "execute_result"
    }
   ],
   "source": [
    "new_model.predict(x_test[1:2])"
   ]
  },
  {
   "cell_type": "code",
   "execution_count": 38,
   "metadata": {},
   "outputs": [
    {
     "data": {
      "text/plain": [
       "array([[1.6160328e-05, 1.0957294e-15, 9.9943668e-01, 2.5503399e-12,\n",
       "        3.5960454e-04, 2.3962508e-13, 1.8749894e-04, 2.0477170e-15,\n",
       "        1.4087464e-11, 3.5610656e-13]], dtype=float32)"
      ]
     },
     "execution_count": 38,
     "metadata": {},
     "output_type": "execute_result"
    }
   ],
   "source": [
    "new_model2.predict(x_test[1:2])"
   ]
  }
 ],
 "metadata": {
  "kernelspec": {
   "display_name": "Python 3",
   "language": "python",
   "name": "python3"
  },
  "language_info": {
   "codemirror_mode": {
    "name": "ipython",
    "version": 3
   },
   "file_extension": ".py",
   "mimetype": "text/x-python",
   "name": "python",
   "nbconvert_exporter": "python",
   "pygments_lexer": "ipython3",
   "version": "3.6.8"
  }
 },
 "nbformat": 4,
 "nbformat_minor": 2
}
